{
 "cells": [
  {
   "cell_type": "code",
   "execution_count": 74,
   "id": "62dfc92b-54c7-4895-8294-9b3d50c5a8e3",
   "metadata": {},
   "outputs": [],
   "source": [
    "from kafka import KafkaProducer, KafkaConsumer"
   ]
  },
  {
   "cell_type": "code",
   "execution_count": 75,
   "id": "656e8c1a-ea83-45b0-8385-70b9b3fd04a3",
   "metadata": {},
   "outputs": [],
   "source": [
    "consumer = KafkaConsumer('top',\n",
    "                         group_id=\"CLIENT\",\n",
    "    bootstrap_servers='kafka:9092',\n",
    "    auto_offset_reset='latest'\n",
    "                        )"
   ]
  },
  {
   "cell_type": "code",
   "execution_count": null,
   "id": "e6286de9-983f-4499-acf6-349ccebe5eed",
   "metadata": {},
   "outputs": [],
   "source": [
    "for message in consumer:\n",
    "    print(message)"
   ]
  },
  {
   "cell_type": "code",
   "execution_count": null,
   "id": "5ce381a8-e6f2-4ef2-997d-49615854ddca",
   "metadata": {},
   "outputs": [],
   "source": []
  }
 ],
 "metadata": {
  "kernelspec": {
   "display_name": "Python 3 (ipykernel)",
   "language": "python",
   "name": "python3"
  },
  "language_info": {
   "codemirror_mode": {
    "name": "ipython",
    "version": 3
   },
   "file_extension": ".py",
   "mimetype": "text/x-python",
   "name": "python",
   "nbconvert_exporter": "python",
   "pygments_lexer": "ipython3",
   "version": "3.11.6"
  }
 },
 "nbformat": 4,
 "nbformat_minor": 5
}
